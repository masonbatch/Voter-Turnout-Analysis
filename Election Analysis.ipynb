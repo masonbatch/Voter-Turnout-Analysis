{
 "cells": [
  {
   "cell_type": "markdown",
   "metadata": {},
   "source": [
    "### Data Creation\n",
    "\n",
    "Create data for each state in a dictionary based on their voter registration deadlines and zip each list with another based \n",
    "on their 2020 election results. Looking at relation of red vs blue states and voter registration deadlines"
   ]
  },
  {
   "cell_type": "code",
   "execution_count": 1,
   "metadata": {},
   "outputs": [],
   "source": [
    "states_28_30 = \"Alaska, Arizona, Arkansas, Florida, Georgia, Indiana, Kentucky, Louisiana, Mississippi, New Mexico, Ohio, Rhode Island, South Carolina, Tennessee, Texas \"\n",
    "states_28_30 = states_28_30.split(\",\")\n",
    "states_28_30 = [i.strip() for i in states_28_30]\n",
    "\n",
    "states_20_27 = \"Delaware, Kansas, Missouri, New Jersey, New York, North Carolina, Oklahoma, Oregon, Virginia, West Virginia\"\n",
    "states_20_27 = states_20_27.split(\", \")\n",
    "\n",
    "states_1_15 = \"Alabama, Massachusetts, Montana, Nebraska, Pennsylvania, South Dakota\"\n",
    "states_1_15 = states_1_15.split(\", \")\n",
    "\n",
    "states_0 = \"California, Colorado, Connecticut, District of Columbia, Hawaii, Idaho, Illinois, Iowa, Maine, Maryland, Michigan, Minnesota, Nevada, New Hampshire, Utah, Vermont, Washington, Wisconsin, Wyoming\"\n",
    "states_0 = states_0.split(\", \")\n",
    "\n",
    "states_none = ['North Dakota']"
   ]
  },
  {
   "cell_type": "code",
   "execution_count": 2,
   "metadata": {},
   "outputs": [],
   "source": [
    "states_28_30_vote = ['R', 'D', 'R', 'R', 'D', 'R', 'R', 'R', 'R', 'D', 'R', 'D', 'R', 'R', 'R']\n",
    "states_20_27_vote = ['D', 'R', 'R', 'D', 'D', 'R', \"R\", 'D', 'D', 'R']\n",
    "states_1_15_vote = ['R', 'D', 'R', 'R', 'D', 'R']\n",
    "states_0_vote = ['D', 'D', 'D', 'D', 'D', 'R', 'D', 'D', 'R', 'D', 'D', 'D', 'D', 'D', 'R', 'D', 'D', 'D', 'R']\n",
    "states_none_vote = ['R']\n",
    "\n",
    "dict_28_30 =dict(zip(states_28_30, states_28_30_vote))\n",
    "dict_20_27 =dict(zip(states_20_27, states_20_27_vote))\n",
    "dict_1_15 =dict(zip(states_1_15, states_1_15_vote))\n",
    "dict_0 =dict(zip(states_0, states_0_vote))\n",
    "dict_none =dict(zip(states_none, states_none_vote))"
   ]
  },
  {
   "cell_type": "code",
   "execution_count": 3,
   "metadata": {},
   "outputs": [],
   "source": [
    "def count_states(dictionary):\n",
    "    r = 0\n",
    "    d = 0\n",
    "    for k,v in dictionary.items():\n",
    "        if v == 'R':\n",
    "            r+=1\n",
    "        elif v == 'D':\n",
    "            d+=1\n",
    "    return (r,d)"
   ]
  },
  {
   "cell_type": "code",
   "execution_count": 4,
   "metadata": {},
   "outputs": [],
   "source": [
    "count_28_30 = count_states(dict_28_30)\n",
    "count_20_27 = count_states(dict_20_27)\n",
    "count_1_15 = count_states(dict_1_15)\n",
    "count_0 = count_states(dict_0)\n",
    "count_none = count_states(dict_none)"
   ]
  },
  {
   "cell_type": "code",
   "execution_count": 5,
   "metadata": {},
   "outputs": [
    {
     "name": "stdout",
     "output_type": "stream",
     "text": [
      "States with registration deadlines 28-30 days prior to election:\n",
      "    Red: 11, Blue:4\n",
      "States with registration deadlines 20-27 days prior to election:\n",
      "    Red: 5, Blue:4\n",
      "States with registration deadlines 1-15 days prior to election:\n",
      "    Red: 4, Blue:2\n",
      "States with registration deadlines 0 days prior to election:\n",
      "    Red: 4, Blue:15\n",
      "States with no voter registration\n",
      "    Red: 1, Blue:0\n"
     ]
    }
   ],
   "source": [
    "print(\"States with registration deadlines 28-30 days prior to election:\")\n",
    "print(f'    Red: {count_28_30[0]}, Blue:{count_28_30[1]}')\n",
    "print(\"States with registration deadlines 20-27 days prior to election:\")\n",
    "print(f'    Red: {count_20_27[0]}, Blue:{count_28_30[1]}')\n",
    "print(\"States with registration deadlines 1-15 days prior to election:\")\n",
    "print(f'    Red: {count_1_15[0]}, Blue:{count_1_15[1]}')\n",
    "print(\"States with registration deadlines 0 days prior to election:\")\n",
    "print(f'    Red: {count_0[0]}, Blue:{count_0[1]}')\n",
    "print(\"States with no voter registration\")\n",
    "print(f'    Red: {count_none[0]}, Blue:{count_none[1]}')"
   ]
  },
  {
   "cell_type": "markdown",
   "metadata": {},
   "source": [
    "### Data Visualizations\n",
    "\n",
    "Read in excel file from internet with voter turnout data based on eligible voter population\n",
    "\n",
    "Going to use new column named 'Eligible turnout (Counted Ballots)' since website did not say what \"Highest office\" was in\n",
    "relation to"
   ]
  },
  {
   "cell_type": "code",
   "execution_count": 6,
   "metadata": {},
   "outputs": [],
   "source": [
    "import pandas as pd\n",
    "import numpy as np\n",
    "import matplotlib.pyplot as plt\n",
    "import seaborn as sns\n",
    "%matplotlib inline"
   ]
  },
  {
   "cell_type": "code",
   "execution_count": 7,
   "metadata": {},
   "outputs": [],
   "source": [
    "df = pd.read_excel(\"turnout.xlsx\", index_col = 0)"
   ]
  },
  {
   "cell_type": "code",
   "execution_count": 8,
   "metadata": {},
   "outputs": [],
   "source": [
    "df.index = df.index.str.replace(\"*\", \"\").str.strip()"
   ]
  },
  {
   "cell_type": "code",
   "execution_count": 9,
   "metadata": {},
   "outputs": [],
   "source": [
    "df.columns = ['Est num ballots', 'Votes for Pres', 'Eligible Turnout (Counted Ballots)', 'Eligible Turnout (office)', 'Eligible Population', 'Voting Age Pop', 'State Abv']"
   ]
  },
  {
   "cell_type": "code",
   "execution_count": 10,
   "metadata": {},
   "outputs": [
    {
     "data": {
      "text/html": [
       "<div>\n",
       "<style scoped>\n",
       "    .dataframe tbody tr th:only-of-type {\n",
       "        vertical-align: middle;\n",
       "    }\n",
       "\n",
       "    .dataframe tbody tr th {\n",
       "        vertical-align: top;\n",
       "    }\n",
       "\n",
       "    .dataframe thead th {\n",
       "        text-align: right;\n",
       "    }\n",
       "</style>\n",
       "<table border=\"1\" class=\"dataframe\">\n",
       "  <thead>\n",
       "    <tr style=\"text-align: right;\">\n",
       "      <th></th>\n",
       "      <th>Est num ballots</th>\n",
       "      <th>Votes for Pres</th>\n",
       "      <th>Eligible Turnout (Counted Ballots)</th>\n",
       "      <th>Eligible Turnout (office)</th>\n",
       "      <th>Eligible Population</th>\n",
       "      <th>Voting Age Pop</th>\n",
       "      <th>State Abv</th>\n",
       "    </tr>\n",
       "    <tr>\n",
       "      <th>State</th>\n",
       "      <th></th>\n",
       "      <th></th>\n",
       "      <th></th>\n",
       "      <th></th>\n",
       "      <th></th>\n",
       "      <th></th>\n",
       "      <th></th>\n",
       "    </tr>\n",
       "  </thead>\n",
       "  <tbody>\n",
       "    <tr>\n",
       "      <th>United States</th>\n",
       "      <td>159738337</td>\n",
       "      <td>158407854</td>\n",
       "      <td>0.665787</td>\n",
       "      <td>0.660242</td>\n",
       "      <td>2.399240e+08</td>\n",
       "      <td>258339023</td>\n",
       "      <td>NaN</td>\n",
       "    </tr>\n",
       "    <tr>\n",
       "      <th>Alabama</th>\n",
       "      <td>2325000</td>\n",
       "      <td>2323282</td>\n",
       "      <td>0.618186</td>\n",
       "      <td>0.617730</td>\n",
       "      <td>3.761001e+06</td>\n",
       "      <td>3917288</td>\n",
       "      <td>AL</td>\n",
       "    </tr>\n",
       "    <tr>\n",
       "      <th>Alaska</th>\n",
       "      <td>361400</td>\n",
       "      <td>359530</td>\n",
       "      <td>0.684237</td>\n",
       "      <td>0.680696</td>\n",
       "      <td>5.281797e+05</td>\n",
       "      <td>553820</td>\n",
       "      <td>AK</td>\n",
       "    </tr>\n",
       "    <tr>\n",
       "      <th>Arizona</th>\n",
       "      <td>3420585</td>\n",
       "      <td>3387054</td>\n",
       "      <td>0.686236</td>\n",
       "      <td>0.679509</td>\n",
       "      <td>4.984557e+06</td>\n",
       "      <td>5574070</td>\n",
       "      <td>AZ</td>\n",
       "    </tr>\n",
       "    <tr>\n",
       "      <th>Arkansas</th>\n",
       "      <td>1223675</td>\n",
       "      <td>1219069</td>\n",
       "      <td>0.564742</td>\n",
       "      <td>0.562616</td>\n",
       "      <td>2.166787e+06</td>\n",
       "      <td>2315001</td>\n",
       "      <td>AR</td>\n",
       "    </tr>\n",
       "  </tbody>\n",
       "</table>\n",
       "</div>"
      ],
      "text/plain": [
       "               Est num ballots  Votes for Pres  \\\n",
       "State                                            \n",
       "United States        159738337       158407854   \n",
       "Alabama                2325000         2323282   \n",
       "Alaska                  361400          359530   \n",
       "Arizona                3420585         3387054   \n",
       "Arkansas               1223675         1219069   \n",
       "\n",
       "               Eligible Turnout (Counted Ballots)  Eligible Turnout (office)  \\\n",
       "State                                                                          \n",
       "United States                            0.665787                   0.660242   \n",
       "Alabama                                  0.618186                   0.617730   \n",
       "Alaska                                   0.684237                   0.680696   \n",
       "Arizona                                  0.686236                   0.679509   \n",
       "Arkansas                                 0.564742                   0.562616   \n",
       "\n",
       "               Eligible Population  Voting Age Pop State Abv  \n",
       "State                                                         \n",
       "United States         2.399240e+08       258339023       NaN  \n",
       "Alabama               3.761001e+06         3917288        AL  \n",
       "Alaska                5.281797e+05          553820        AK  \n",
       "Arizona               4.984557e+06         5574070        AZ  \n",
       "Arkansas              2.166787e+06         2315001        AR  "
      ]
     },
     "execution_count": 10,
     "metadata": {},
     "output_type": "execute_result"
    }
   ],
   "source": [
    "df.head()"
   ]
  },
  {
   "cell_type": "code",
   "execution_count": 11,
   "metadata": {},
   "outputs": [
    {
     "data": {
      "text/plain": [
       "<AxesSubplot:xlabel='Eligible Turnout (Counted Ballots)', ylabel='State'>"
      ]
     },
     "execution_count": 11,
     "metadata": {},
     "output_type": "execute_result"
    },
    {
     "data": {
      "image/png": "[encoded data removed]",
      "text/plain": [
       "<Figure size 864x720 with 1 Axes>"
      ]
     },
     "metadata": {
      "needs_background": "light"
     },
     "output_type": "display_data"
    }
   ],
   "source": [
    "fig, ax = plt.subplots(figsize = (12,10))\n",
    "\n",
    "labels = df['Eligible Turnout (Counted Ballots)'].index\n",
    "values = df['Eligible Turnout (Counted Ballots)']\n",
    "\n",
    "sns.barplot(x = values, y = labels)"
   ]
  },
  {
   "cell_type": "code",
   "execution_count": 12,
   "metadata": {},
   "outputs": [],
   "source": [
    "def turnout_stats(dictionary):\n",
    "    \"\"\"Develop statistics for each dictionary: average percent voter turnout, \n",
    "    count of states, and std dev of percent\"\"\"\n",
    "    summed = 0\n",
    "    count = 0\n",
    "    arr = []\n",
    "    for k,v in dictionary.items():\n",
    "        summed += df.loc[k, 'Eligible Turnout (Counted Ballots)']\n",
    "        arr.append(df.loc[k, 'Eligible Turnout (Counted Ballots)'])\n",
    "        count+=1\n",
    "    return ((summed / count), count, np.std(arr))"
   ]
  },
  {
   "cell_type": "code",
   "execution_count": 13,
   "metadata": {},
   "outputs": [],
   "source": [
    "mean_turnouts = []\n",
    "\n",
    "stats_28_30 = turnout_stats(dict_28_30)\n",
    "stats_20_27 = turnout_stats(dict_20_27)\n",
    "stats_1_15 = turnout_stats(dict_1_15)\n",
    "stats_0 = turnout_stats(dict_0)\n",
    "stats_none = turnout_stats(dict_none)\n",
    "\n",
    "mean_turnouts.append(stats_28_30[0]*100)\n",
    "mean_turnouts.append(stats_20_27[0]*100)\n",
    "mean_turnouts.append(stats_1_15[0]*100)\n",
    "mean_turnouts.append(stats_0[0]*100)\n",
    "mean_turnouts.append(stats_none[0]*100)"
   ]
  },
  {
   "cell_type": "code",
   "execution_count": 14,
   "metadata": {},
   "outputs": [],
   "source": [
    "cat_labels = ['28-30 days', '20-27 days', '1-15 days', '0 days', 'No Registration']"
   ]
  },
  {
   "cell_type": "code",
   "execution_count": 15,
   "metadata": {},
   "outputs": [
    {
     "data": {
      "image/png": "[encoded data removed]",
      "text/plain": [
       "<Figure size 864x432 with 1 Axes>"
      ]
     },
     "metadata": {},
     "output_type": "display_data"
    }
   ],
   "source": [
    "import matplotlib.ticker as mtick\n",
    "sns.set_style(\"darkgrid\")\n",
    "sns.set_palette(\"pastel\")\n",
    "fig, ax = plt.subplots(figsize = (12,6))\n",
    "sns.barplot(x = cat_labels, y = mean_turnouts);\n",
    "ax.set_title(\"Mean Percentage of voter turnout by Registration deadline\", fontsize = 18)\n",
    "ax.set_xlabel(\"Registration Deadline\", fontsize = 12)\n",
    "ax.set_ylabel(\"Average Percent of Voter Turnout by ballot count\", fontsize = 12)\n",
    "\n",
    "fmt = '%.0f%%' # Format you want the ticks, e.g. '40%'\n",
    "yicks = mtick.FormatStrFormatter(fmt)\n",
    "ax.yaxis.set_major_formatter(yicks)"
   ]
  },
  {
   "cell_type": "code",
   "execution_count": 16,
   "metadata": {},
   "outputs": [],
   "source": [
    "import scipy.stats as stats"
   ]
  },
  {
   "cell_type": "code",
   "execution_count": 17,
   "metadata": {},
   "outputs": [],
   "source": [
    "results = stats.ttest_ind_from_stats(stats_28_30[0], stats_28_30[2], stats_28_30[1], stats_0[0], stats_0[2], stats_0[1])"
   ]
  },
  {
   "cell_type": "code",
   "execution_count": 18,
   "metadata": {},
   "outputs": [
    {
     "data": {
      "text/plain": [
       "(0.641779109621523, 15, 0.041236871183621404)"
      ]
     },
     "execution_count": 18,
     "metadata": {},
     "output_type": "execute_result"
    }
   ],
   "source": [
    "stats_28_30"
   ]
  },
  {
   "cell_type": "markdown",
   "metadata": {},
   "source": [
    "## Hypothesis Test Reults\n",
    "\n",
    "$H_0:$The average voter turnout is the same for states with Election day registration and stats with registration deadlines 28 - 30 days prior to registration\n",
    "\n",
    "$H_A:$ Average voter turnout in states with Day of Registration is higher than those with deadlines 28-30 days prior to election day\n",
    "\n",
    "Testing with alpha = 0.05 for a one tail test at a 95% confidence level"
   ]
  },
  {
   "cell_type": "code",
   "execution_count": 19,
   "metadata": {},
   "outputs": [
    {
     "name": "stdout",
     "output_type": "stream",
     "text": [
      "p-value for one tail t test: 0.0003 < 0.05 thus we reject the null hypothesis\n"
     ]
    }
   ],
   "source": [
    "print(f'p-value for one tail t test: {results.pvalue/2:.4f} < 0.05 thus we reject the null hypothesis')"
   ]
  },
  {
   "cell_type": "markdown",
   "metadata": {},
   "source": [
    "There is evidence to support the claim that the voter turnout in states with Day of Registration is higher than \n",
    "states which have registration deadlines 28-30 days prior to the election"
   ]
  }
 ],
 "metadata": {
  "kernelspec": {
   "display_name": "Python (learn-env)",
   "language": "python",
   "name": "learn-env"
  },
  "language_info": {
   "codemirror_mode": {
    "name": "ipython",
    "version": 3
   },
   "file_extension": ".py",
   "mimetype": "text/x-python",
   "name": "python",
   "nbconvert_exporter": "python",
   "pygments_lexer": "ipython3",
   "version": "3.8.5"
  }
 },
 "nbformat": 4,
 "nbformat_minor": 4
}
